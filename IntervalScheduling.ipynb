{
 "cells": [
  {
   "cell_type": "markdown",
   "metadata": {},
   "source": [
    "# Algoritmos Ambiciosos"
   ]
  },
  {
   "cell_type": "markdown",
   "metadata": {},
   "source": [
    "## Interval Scheduling"
   ]
  },
  {
   "cell_type": "code",
   "execution_count": 48,
   "metadata": {},
   "outputs": [],
   "source": [
    "atividades = [[5, 9], \n",
    "              [1, 2], \n",
    "              [3, 4], \n",
    "              [0, 6], \n",
    "              [5, 7], \n",
    "              [8, 9]\n",
    "             ];\n",
    "tam = len(atividades)\n",
    "\n",
    "def printWithStartTime(atividades, tam):\n",
    "    start = atividades\n",
    "    start.sort()\n",
    "    \n",
    "    print(\"Atividades que podem ser feitas pelo start time:\")\n",
    "    \n",
    "    i = 0\n",
    "    \n",
    "    print(\"(\" + str(start[i][0]) + \",\" + str(start[i][1]) + \")\")\n",
    "    \n",
    "    for j in range(tam):\n",
    "        if start[j][0] >= start[i][1]:\n",
    "            print(\"(\" + str(start[j][0]) +\n",
    "                  \",\" + str(start[j][1]) + \")\")\n",
    "            i = j\n",
    "    #print(start)\n",
    "            \n",
    "def printWithSlack(atividaes, tam):\n",
    "    slack = atividades\n",
    "    slack.sort(key=lambda x:x[1])\n",
    "    \n",
    "    print(\"Atividades que podem ser feitas pelo finish time:\")\n",
    "    \n",
    "    i = 0\n",
    "    \n",
    "    print(\"(\" + str(slack[i][0]) + \",\" + str(slack[i][1]) + \")\")\n",
    "    \n",
    "    for j in range(tam):\n",
    "        if slack[j][0] >= slack[i][1]:\n",
    "            print(\"(\" + str(slack[j][0]) +\n",
    "                  \",\" + str(slack[j][1]) + \")\")\n",
    "            i = j\n",
    "    \n",
    "    #print(slack)"
   ]
  },
  {
   "cell_type": "code",
   "execution_count": 49,
   "metadata": {},
   "outputs": [
    {
     "name": "stdout",
     "output_type": "stream",
     "text": [
      "Atividades que podem ser feitas pelo start time:\n",
      "(0,6)\n",
      "(8,9)\n"
     ]
    }
   ],
   "source": [
    "printWithStartTime(atividades, tam)"
   ]
  },
  {
   "cell_type": "code",
   "execution_count": 50,
   "metadata": {},
   "outputs": [
    {
     "name": "stdout",
     "output_type": "stream",
     "text": [
      "Atividades que podem ser feitas pelo finish time:\n",
      "(1,2)\n",
      "(3,4)\n",
      "(5,7)\n",
      "(8,9)\n"
     ]
    }
   ],
   "source": [
    "printWithSlack(atividades,tam)"
   ]
  },
  {
   "cell_type": "code",
   "execution_count": null,
   "metadata": {},
   "outputs": [],
   "source": []
  }
 ],
 "metadata": {
  "kernelspec": {
   "display_name": "Python 3",
   "language": "python",
   "name": "python3"
  },
  "language_info": {
   "codemirror_mode": {
    "name": "ipython",
    "version": 3
   },
   "file_extension": ".py",
   "mimetype": "text/x-python",
   "name": "python",
   "nbconvert_exporter": "python",
   "pygments_lexer": "ipython3",
   "version": "3.6.5"
  }
 },
 "nbformat": 4,
 "nbformat_minor": 2
}
