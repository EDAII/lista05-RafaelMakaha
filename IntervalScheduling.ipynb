{
 "cells": [
  {
   "cell_type": "markdown",
   "metadata": {},
   "source": [
    "# Algoritmos Ambiciosos"
   ]
  },
  {
   "cell_type": "markdown",
   "metadata": {},
   "source": [
    "## Interval Scheduling"
   ]
  },
  {
   "cell_type": "code",
   "execution_count": 118,
   "metadata": {},
   "outputs": [],
   "source": [
    "import numpy as np\n",
    "import matplotlib.pyplot as plt\n",
    "\n",
    "atividades = [[5, 9], \n",
    "              [1, 2], \n",
    "              [3, 4], \n",
    "              [0, 6], \n",
    "              [5, 7], \n",
    "              [8, 9]\n",
    "             ];\n",
    "\n",
    "tam = len(atividades)\n",
    "\n",
    "def printWithStartTime(atividades, tam):\n",
    "    start = atividades\n",
    "    start.sort()\n",
    "    \n",
    "    print(\"Atividades que podem ser feitas pelo start time:\")\n",
    "    \n",
    "    i = 0\n",
    "    \n",
    "    print(\"(\" + str(start[i][0]) + \",\" + str(start[i][1]) + \")\")\n",
    "    \n",
    "    for j in range(tam):\n",
    "        if start[j][0] >= start[i][1]:\n",
    "            print(\"(\" + str(start[j][0]) +\n",
    "                  \",\" + str(start[j][1]) + \")\")\n",
    "            i = j\n",
    "    \n",
    "    x = []\n",
    "    for i in range(tam):\n",
    "        x.append(start[i][0])\n",
    "        x.append(start[i][1])\n",
    "    \n",
    "    plt.subplot(1, 1, 1)\n",
    "    i = 0\n",
    "    for i in range(tam):    \n",
    "        plt.plot(start[i:i+1], i, 'ro-')\n",
    "    plt.show()\n",
    "            \n",
    "def printWithEndTime(atividaes, tam):\n",
    "    end = atividades\n",
    "    end.sort(key=lambda x:x[1])\n",
    "    \n",
    "    print(\"Atividades que podem ser feitas pelo end time:\")\n",
    "    \n",
    "    i = 0\n",
    "    \n",
    "    print(\"(\" + str(end[i][0]) + \",\" + str(end[i][1]) + \")\")\n",
    "    \n",
    "    for j in range(tam):\n",
    "        if end[j][0] >= end[i][1]:\n",
    "            print(\"(\" + str(end[j][0]) +\n",
    "                  \",\" + str(end[j][1]) + \")\")\n",
    "            i = j\n",
    "    x = []\n",
    "    for i in range(tam):\n",
    "        x.append(end[i][0])\n",
    "        x.append(end[i][1])\n",
    "    \n",
    "    plt.subplot(1, 1, 1)\n",
    "    plt.axis('equal')\n",
    "    i = 0\n",
    "    for i in range(tam):    \n",
    "        plt.plot(end[i:i+1], i, 'ro-')\n",
    "    plt.show()\n",
    "    #print(end)\n",
    "    \n",
    "# def printWithSlack(atividades, tam):\n",
    "#     slack = atividades\n",
    "#     np.array(slack)\n",
    "\n",
    "#     diff = np.abs(slack[:][1]-slack[:][0]) # your sort order\n",
    "#     sortidx = np.argsort(diff) # indexes which sort the data by diff\n",
    "\n",
    "#     print(slack[sortidx])\n",
    "    \n",
    "#     print(\"Atividades que podem ser feitas pelo slack time:\")\n",
    "    \n",
    "#     i = 0\n",
    "    \n",
    "#     print(\"(\" + str(slack[i][0]) + \",\" + str(slack[i][1]) + \")\")\n",
    "    \n",
    "#     for j in range(tam):\n",
    "#         if slack[j][0] >= slack[i][1]:\n",
    "#             print(\"(\" + str(slack[j][0]) +\n",
    "#                   \",\" + str(slack[j][1]) + \")\")\n",
    "#             i = j\n",
    "    \n",
    "#     #print(slack)"
   ]
  },
  {
   "cell_type": "code",
   "execution_count": 119,
   "metadata": {},
   "outputs": [
    {
     "name": "stdout",
     "output_type": "stream",
     "text": [
      "Atividades que podem ser feitas pelo start time:\n",
      "(0,6)\n",
      "(8,9)\n"
     ]
    },
    {
     "data": {
      "image/png": "[encoded data removed]",
      "text/plain": [
       "<Figure size 432x288 with 1 Axes>"
      ]
     },
     "metadata": {},
     "output_type": "display_data"
    }
   ],
   "source": [
    "printWithStartTime(atividades, tam)"
   ]
  },
  {
   "cell_type": "code",
   "execution_count": 113,
   "metadata": {},
   "outputs": [
    {
     "name": "stdout",
     "output_type": "stream",
     "text": [
      "Atividades que podem ser feitas pelo end time:\n",
      "(1,2)\n",
      "(3,4)\n",
      "(5,7)\n",
      "(8,9)\n"
     ]
    },
    {
     "data": {
      "image/png": "[encoded data removed]",
      "text/plain": [
       "<Figure size 432x288 with 1 Axes>"
      ]
     },
     "metadata": {},
     "output_type": "display_data"
    }
   ],
   "source": [
    "printWithEndTime(atividades,tam)"
   ]
  },
  {
   "cell_type": "code",
   "execution_count": null,
   "metadata": {},
   "outputs": [],
   "source": []
  }
 ],
 "metadata": {
  "kernelspec": {
   "display_name": "Python 3",
   "language": "python",
   "name": "python3"
  },
  "language_info": {
   "codemirror_mode": {
    "name": "ipython",
    "version": 3
   },
   "file_extension": ".py",
   "mimetype": "text/x-python",
   "name": "python",
   "nbconvert_exporter": "python",
   "pygments_lexer": "ipython3",
   "version": "3.6.5"
  }
 },
 "nbformat": 4,
 "nbformat_minor": 2
}
